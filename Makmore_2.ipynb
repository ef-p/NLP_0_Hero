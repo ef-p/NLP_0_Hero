{
  "nbformat": 4,
  "nbformat_minor": 0,
  "metadata": {
    "colab": {
      "provenance": []
    },
    "kernelspec": {
      "name": "python3",
      "display_name": "Python 3"
    },
    "language_info": {
      "name": "python"
    }
  },
  "cells": [
    {
      "cell_type": "markdown",
      "source": [
        "# Our last method of taking the counts of each bigram won't scale at all. It will grow exponentionally. We're going to take an MLP approach"
      ],
      "metadata": {
        "id": "vCOZn94a6nfB"
      }
    },
    {
      "cell_type": "markdown",
      "source": [
        "We're going to be following the approach of this 2003 paper: https://www.jmlr.org/papers/volume3/bengio03a/bengio03a.pdf.\n",
        "\n",
        "While this paper used a word level model, we'll be sticking to character level models, but with the same modeling approach.\n",
        "\n",
        "The paper took a vocabulary of 17,000 words and associated a 30 element feature vector to each, embedding them in a 30 dimensional space. The idea is that words that have similar meanings may end up near eachother in this 30D space, and conversly words that are very different, should be very far from each other. (Note: the paper mentions feature size numbers of 30, 60 and 100 in their experiments).\n",
        "\n",
        "The great power here is the ability to use 'closeness' within the embedding space to generalize broadly.\n",
        "\n"
      ],
      "metadata": {
        "id": "o_sgAMBG7KUe"
      }
    },
    {
      "cell_type": "code",
      "source": [
        "!git clone https://github.com/ef-p/NLP_0_Hero.git\n",
        "%cd /content/NLP_0_Hero"
      ],
      "metadata": {
        "id": "hbtUL-kYmcT0",
        "outputId": "b8ad6e03-075d-4891-c2d8-4834b888a83c",
        "colab": {
          "base_uri": "https://localhost:8080/"
        }
      },
      "execution_count": 1,
      "outputs": [
        {
          "output_type": "stream",
          "name": "stdout",
          "text": [
            "Cloning into 'NLP_0_Hero'...\n",
            "remote: Enumerating objects: 18, done.\u001b[K\n",
            "remote: Counting objects: 100% (18/18), done.\u001b[K\n",
            "remote: Compressing objects: 100% (15/15), done.\u001b[K\n",
            "remote: Total 18 (delta 3), reused 14 (delta 2), pack-reused 0\u001b[K\n",
            "Receiving objects: 100% (18/18), 948.09 KiB | 9.12 MiB/s, done.\n",
            "Resolving deltas: 100% (3/3), done.\n",
            "/content/NLP_0_Hero\n"
          ]
        }
      ]
    },
    {
      "cell_type": "code",
      "source": [
        "import torch\n",
        "import torch.nn.functional as F\n",
        "import matplotlib.pyplot as plt\n",
        "%matplotlib inline"
      ],
      "metadata": {
        "id": "-PonkQP67JLU"
      },
      "execution_count": 2,
      "outputs": []
    },
    {
      "cell_type": "code",
      "source": [
        "# read in all the words\n",
        "\n",
        "words = open('names.txt', 'r').read().splitlines()\n",
        "words[:8]"
      ],
      "metadata": {
        "colab": {
          "base_uri": "https://localhost:8080/"
        },
        "id": "vunbv2uIBe2k",
        "outputId": "1db69a46-174b-42fa-8cea-75d411933697"
      },
      "execution_count": 3,
      "outputs": [
        {
          "output_type": "execute_result",
          "data": {
            "text/plain": [
              "['emma', 'olivia', 'ava', 'isabella', 'sophia', 'charlotte', 'mia', 'amelia']"
            ]
          },
          "metadata": {},
          "execution_count": 3
        }
      ]
    },
    {
      "cell_type": "code",
      "source": [
        "len(words)"
      ],
      "metadata": {
        "colab": {
          "base_uri": "https://localhost:8080/"
        },
        "id": "LV8DpAr3Gkru",
        "outputId": "dabbc634-dd3b-46da-cf38-f168369d114c"
      },
      "execution_count": 4,
      "outputs": [
        {
          "output_type": "execute_result",
          "data": {
            "text/plain": [
              "32033"
            ]
          },
          "metadata": {},
          "execution_count": 4
        }
      ]
    },
    {
      "cell_type": "code",
      "source": [
        "# Build the \"vocabulary\" of characters and the mapping to and from integers\n",
        "\n",
        "chars = sorted(list(set(''.join(words))))\n",
        "stoi = {s:i+1 for i,s in enumerate(chars)}\n",
        "stoi['.'] = 0 # string to int\n",
        "itos = {i:s for s, i in stoi.items()} # int to string\n",
        "print(stoi,'\\n',itos)"
      ],
      "metadata": {
        "colab": {
          "base_uri": "https://localhost:8080/"
        },
        "id": "RCZcghYHGpTl",
        "outputId": "3944dbdf-667b-48ae-b5ba-098e2bdeb378"
      },
      "execution_count": 5,
      "outputs": [
        {
          "output_type": "stream",
          "name": "stdout",
          "text": [
            "{'a': 1, 'b': 2, 'c': 3, 'd': 4, 'e': 5, 'f': 6, 'g': 7, 'h': 8, 'i': 9, 'j': 10, 'k': 11, 'l': 12, 'm': 13, 'n': 14, 'o': 15, 'p': 16, 'q': 17, 'r': 18, 's': 19, 't': 20, 'u': 21, 'v': 22, 'w': 23, 'x': 24, 'y': 25, 'z': 26, '.': 0} \n",
            " {1: 'a', 2: 'b', 3: 'c', 4: 'd', 5: 'e', 6: 'f', 7: 'g', 8: 'h', 9: 'i', 10: 'j', 11: 'k', 12: 'l', 13: 'm', 14: 'n', 15: 'o', 16: 'p', 17: 'q', 18: 'r', 19: 's', 20: 't', 21: 'u', 22: 'v', 23: 'w', 24: 'x', 25: 'y', 26: 'z', 0: '.'}\n"
          ]
        }
      ]
    },
    {
      "cell_type": "code",
      "source": [
        "# Here's how we build the dataset\n",
        "# this is the context length of how far back we're going to look to predict the next char.\n",
        "block_size = 3 # here we're looking at the last 3 characters to guess the 4th.\n",
        "\n",
        "X,Y = [], []\n",
        "# just the first five words for now .\n",
        "for w in words[:5]:\n",
        "  #print(w)\n",
        "  context = [0]*block_size # creates a list the size of block_size,\n",
        "  for ch in w + '.':\n",
        "    ix = stoi[ch] #what's the indx of the character ?\n",
        "    X.append(context) # add the context, first list should be all '.'\n",
        "    Y.append(ix) # the index to get the character from itos.\n",
        "    print(''.join(itos[i] for i in context), '--->', itos[ix])\n",
        "    #the above prints the current context, --> and then the next letter\n",
        "\n",
        "    context = context[1:] + [ix] # crop, and append the index for the next character.\n",
        "\n",
        "X,Y = torch.tensor(X), torch.tensor(Y)\n"
      ],
      "metadata": {
        "colab": {
          "base_uri": "https://localhost:8080/"
        },
        "id": "rKt54n-aG04D",
        "outputId": "05744e76-2aff-4e41-f510-fad2749b6a69"
      },
      "execution_count": 6,
      "outputs": [
        {
          "output_type": "stream",
          "name": "stdout",
          "text": [
            "emma\n",
            "... ---> e\n",
            "..e ---> m\n",
            ".em ---> m\n",
            "emm ---> a\n",
            "mma ---> .\n",
            "olivia\n",
            "... ---> o\n",
            "..o ---> l\n",
            ".ol ---> i\n",
            "oli ---> v\n",
            "liv ---> i\n",
            "ivi ---> a\n",
            "via ---> .\n",
            "ava\n",
            "... ---> a\n",
            "..a ---> v\n",
            ".av ---> a\n",
            "ava ---> .\n",
            "isabella\n",
            "... ---> i\n",
            "..i ---> s\n",
            ".is ---> a\n",
            "isa ---> b\n",
            "sab ---> e\n",
            "abe ---> l\n",
            "bel ---> l\n",
            "ell ---> a\n",
            "lla ---> .\n",
            "sophia\n",
            "... ---> s\n",
            "..s ---> o\n",
            ".so ---> p\n",
            "sop ---> h\n",
            "oph ---> i\n",
            "phi ---> a\n",
            "hia ---> .\n"
          ]
        }
      ]
    },
    {
      "cell_type": "code",
      "source": [
        "X.shape, X.dtype, Y.shape, Y.dtype"
      ],
      "metadata": {
        "colab": {
          "base_uri": "https://localhost:8080/"
        },
        "id": "4Yi40FlfJ-d5",
        "outputId": "ea7b0280-4daa-424d-92f4-6ffc5c5a9c31"
      },
      "execution_count": 7,
      "outputs": [
        {
          "output_type": "execute_result",
          "data": {
            "text/plain": [
              "(torch.Size([32, 3]), torch.int64, torch.Size([32]), torch.int64)"
            ]
          },
          "metadata": {},
          "execution_count": 7
        }
      ]
    },
    {
      "cell_type": "markdown",
      "source": [
        "**As you can see above we have 32 training examples that we made out of our first five names. Each of these examples is a triplet of charcters, made from our 27 possible characters. These are the triplets that appear when considering only the first five names, as we eventually use the entire dataset, we'll get more**"
      ],
      "metadata": {
        "id": "ZYB2mFiJN3Q7"
      }
    },
    {
      "cell_type": "code",
      "source": [
        "\n",
        "# here's our look up table.\n",
        "# the paper takes its 17000 words and puts them in spaces as small as 30\n",
        "# we'll start with a 2D space\n",
        "# 27 rows for our characters, and two columns for the size of the feature space\n",
        "C = torch.randn((27,2))"
      ],
      "metadata": {
        "id": "InazqVbZNtF9"
      },
      "execution_count": 8,
      "outputs": []
    },
    {
      "cell_type": "code",
      "source": [
        "# here's one embedding\n",
        "C[5]"
      ],
      "metadata": {
        "colab": {
          "base_uri": "https://localhost:8080/"
        },
        "id": "ZzgfVOnvPWz6",
        "outputId": "cfc1fb00-6c86-4d37-9946-b30cb69818ec"
      },
      "execution_count": 9,
      "outputs": [
        {
          "output_type": "execute_result",
          "data": {
            "text/plain": [
              "tensor([-1.0853,  0.0642])"
            ]
          },
          "metadata": {},
          "execution_count": 9
        }
      ]
    },
    {
      "cell_type": "code",
      "source": [
        "#index using lists\n",
        "\n",
        "C[[5,6,7]]"
      ],
      "metadata": {
        "colab": {
          "base_uri": "https://localhost:8080/"
        },
        "id": "sP4WXy-3SX8M",
        "outputId": "5564a184-4db0-4c05-c2a2-1099f913e9c9"
      },
      "execution_count": 10,
      "outputs": [
        {
          "output_type": "execute_result",
          "data": {
            "text/plain": [
              "tensor([[-1.0853,  0.0642],\n",
              "        [-1.3417,  0.4200],\n",
              "        [-1.3186,  0.4074]])"
            ]
          },
          "metadata": {},
          "execution_count": 10
        }
      ]
    },
    {
      "cell_type": "code",
      "source": [
        "# we can feed it a  tensor\n",
        "C[torch.tensor([5,6,7])]"
      ],
      "metadata": {
        "colab": {
          "base_uri": "https://localhost:8080/"
        },
        "id": "m3hAYR8ETUen",
        "outputId": "f58fdece-81cf-41d8-f314-1861c590a0e9"
      },
      "execution_count": 11,
      "outputs": [
        {
          "output_type": "execute_result",
          "data": {
            "text/plain": [
              "tensor([[-1.0853,  0.0642],\n",
              "        [-1.3417,  0.4200],\n",
              "        [-1.3186,  0.4074]])"
            ]
          },
          "metadata": {},
          "execution_count": 11
        }
      ]
    },
    {
      "cell_type": "code",
      "source": [
        "# we can even send the same index again and again\n",
        "C[torch.tensor([5,6,7,7,7,7,7,7])]"
      ],
      "metadata": {
        "colab": {
          "base_uri": "https://localhost:8080/"
        },
        "id": "9XankGhqTX3W",
        "outputId": "bd76ffcd-f9dc-44bc-f178-9c8fc4da6130"
      },
      "execution_count": 12,
      "outputs": [
        {
          "output_type": "execute_result",
          "data": {
            "text/plain": [
              "tensor([[-1.0853,  0.0642],\n",
              "        [-1.3417,  0.4200],\n",
              "        [-1.3186,  0.4074],\n",
              "        [-1.3186,  0.4074],\n",
              "        [-1.3186,  0.4074],\n",
              "        [-1.3186,  0.4074],\n",
              "        [-1.3186,  0.4074],\n",
              "        [-1.3186,  0.4074]])"
            ]
          },
          "metadata": {},
          "execution_count": 12
        }
      ]
    },
    {
      "cell_type": "code",
      "source": [
        "C[X].shape # we can therefore embed all the ints in X with just C[X]\n",
        "# lets look at the shape to get this right in our heads."
      ],
      "metadata": {
        "colab": {
          "base_uri": "https://localhost:8080/"
        },
        "id": "h3-lLIMcTb89",
        "outputId": "42535b1b-ec6d-4a52-ba25-0e0f90e90a63"
      },
      "execution_count": 13,
      "outputs": [
        {
          "output_type": "execute_result",
          "data": {
            "text/plain": [
              "torch.Size([32, 3, 2])"
            ]
          },
          "metadata": {},
          "execution_count": 13
        }
      ]
    },
    {
      "cell_type": "markdown",
      "source": [
        "So we have 32 entries, each 3 characters long (our context length). and now each of the characters is identified by a 2D vector embedding. Let's just prove this to our selves before moving on."
      ],
      "metadata": {
        "id": "6xu0c77VV8G_"
      }
    },
    {
      "cell_type": "code",
      "source": [
        "X[13,2] # lets pluck out a random int"
      ],
      "metadata": {
        "colab": {
          "base_uri": "https://localhost:8080/"
        },
        "id": "ddcJN4KlTu_9",
        "outputId": "f84d2f9a-6fb3-4b97-f7aa-46ecc539d13d"
      },
      "execution_count": 14,
      "outputs": [
        {
          "output_type": "execute_result",
          "data": {
            "text/plain": [
              "tensor(1)"
            ]
          },
          "metadata": {},
          "execution_count": 14
        }
      ]
    },
    {
      "cell_type": "code",
      "source": [
        "C[X][13,2] # if we've done this correctly we should get the embedding for that int"
      ],
      "metadata": {
        "colab": {
          "base_uri": "https://localhost:8080/"
        },
        "id": "Lw4a-GvVUOoM",
        "outputId": "5423776c-f817-4ca7-ac01-f38fe8ab1e8a"
      },
      "execution_count": 15,
      "outputs": [
        {
          "output_type": "execute_result",
          "data": {
            "text/plain": [
              "tensor([-0.5659, -0.4650])"
            ]
          },
          "metadata": {},
          "execution_count": 15
        }
      ]
    },
    {
      "cell_type": "markdown",
      "source": [
        "Remember, these number values are really characters. So, to reiterate, if we've got everything straight here the embedding for X[32,2] aka the embedding for tensor(1), should be [0.5771, 0.3914]. So if we've done this right we would expect C[X][13,2] == C[1], the previously mentioned embedding."
      ],
      "metadata": {
        "id": "tZPctZCKUjF7"
      }
    },
    {
      "cell_type": "code",
      "source": [
        "C[1] #the value is the same! pytorch indexing is very handy"
      ],
      "metadata": {
        "colab": {
          "base_uri": "https://localhost:8080/"
        },
        "id": "3d3RDqzvUYmY",
        "outputId": "076cb438-116b-4263-eb3c-5c5784068326"
      },
      "execution_count": 16,
      "outputs": [
        {
          "output_type": "execute_result",
          "data": {
            "text/plain": [
              "tensor([-0.5659, -0.4650])"
            ]
          },
          "metadata": {},
          "execution_count": 16
        }
      ]
    },
    {
      "cell_type": "code",
      "source": [
        " emb = C[X]"
      ],
      "metadata": {
        "id": "hGXPrhT_VlhS"
      },
      "execution_count": 17,
      "outputs": []
    },
    {
      "cell_type": "code",
      "source": [
        "# lets make the hidden layer\n",
        "\n",
        "\n",
        "W1 = torch.randn((6, 100)) # we have 2D embeddings, and we have 3 of them, hence the 6. # the number of neurons is up to us.\n",
        "b1 = torch.randn(100)"
      ],
      "metadata": {
        "id": "TVetD2PrWcuO"
      },
      "execution_count": 18,
      "outputs": []
    },
    {
      "cell_type": "markdown",
      "source": [
        "Now, ideally we'd like to do the following matmul: `emb @ W1 + b1`. But these matrix dims don't work. We'll have to fix this so our tensors are the same rank.lets try anad make emb a `[32,6]` matrix."
      ],
      "metadata": {
        "id": "qN8qNxJtW6I0"
      }
    },
    {
      "cell_type": "code",
      "source": [
        "#The 1 index (value of 3) in emb refers to our context length, the triplet of words we collceted\n",
        "#we're going to use torch.cat to smush all these into vectors with 6 elements\n",
        "#recall that each emebedding is a vector of size 2.\n",
        "conemb1 = torch.cat([emb[:,0, :], emb[:,1, :], emb[:,2, :]])\n"
      ],
      "metadata": {
        "id": "AP82YtCuXPgL"
      },
      "execution_count": 20,
      "outputs": []
    },
    {
      "cell_type": "markdown",
      "source": [
        "this works fine, but this isn't generalizable unfortunatly, if we had a different context length, this won't work. Lets use unbind and use it on the 1st dimension, and it'll work no matter what context length we choose."
      ],
      "metadata": {
        "id": "5vUYIrKiNpeS"
      }
    },
    {
      "cell_type": "code",
      "source": [
        "conemb2 = torch.cat(torch.unbind(emb,1),1)"
      ],
      "metadata": {
        "id": "RdCXXmwQN7hy"
      },
      "execution_count": 21,
      "outputs": []
    },
    {
      "cell_type": "markdown",
      "source": [
        "This is okay, but we have an even more efficient solution.\n",
        "\n",
        "the view function works more efficiently because it doesn't involve moving anything around in memory. The storage stays exactly the same (one big vector) but some internal attributes of the object will change so that it is 'interpreted' or 'viewed' differently when we use it.\n",
        "\n",
        " So these interal structures are making it so our vector is 'interpreted' as 32,3,2 , view can change this so it's 'viewed' as 32,6. As long as everything multiplies out to be the same, we're golden."
      ],
      "metadata": {
        "id": "mpt1_bVkOBy7"
      }
    },
    {
      "cell_type": "code",
      "source": [
        "emb.view(32,6).shape"
      ],
      "metadata": {
        "id": "NDLwZ6bSOJ6u",
        "outputId": "8b252a72-1077-40af-bc37-a2ac07a8cf19",
        "colab": {
          "base_uri": "https://localhost:8080/"
        }
      },
      "execution_count": 22,
      "outputs": [
        {
          "output_type": "execute_result",
          "data": {
            "text/plain": [
              "torch.Size([32, 6])"
            ]
          },
          "metadata": {},
          "execution_count": 22
        }
      ]
    },
    {
      "cell_type": "code",
      "source": [
        "#now we can do our operation!\n",
        "# The -1 asks pytorch to figure out what that dimension is\n",
        "# if the second dimension is 6, it can see that well this other one must be 32, otherwise the vector length would be wrong.\n",
        "\n",
        "h = torch.tanh(emb.view(-1, 6) @ W1 + b1) # passing our operation through a tanh activation fun\n",
        "h.shape\n"
      ],
      "metadata": {
        "id": "LVvuzqR9PmiR",
        "outputId": "d0778f3e-e19b-4760-cbd4-00274eed84f8",
        "colab": {
          "base_uri": "https://localhost:8080/"
        }
      },
      "execution_count": 24,
      "outputs": [
        {
          "output_type": "execute_result",
          "data": {
            "text/plain": [
              "torch.Size([32, 100])"
            ]
          },
          "metadata": {},
          "execution_count": 24
        }
      ]
    },
    {
      "cell_type": "code",
      "source": [
        "# second set of W and B\n",
        "\n",
        "W2 = torch.randn(100,27)\n",
        "b2 = torch.randn(27)\n",
        "\n",
        "logits = h @ W2 + b2\n",
        "logits.shape"
      ],
      "metadata": {
        "id": "Rlil3xekQrcx",
        "outputId": "18a27d6f-16e0-469e-dd7e-398bbeccfba6",
        "colab": {
          "base_uri": "https://localhost:8080/"
        }
      },
      "execution_count": 25,
      "outputs": [
        {
          "output_type": "execute_result",
          "data": {
            "text/plain": [
              "torch.Size([32, 27])"
            ]
          },
          "metadata": {},
          "execution_count": 25
        }
      ]
    },
    {
      "cell_type": "code",
      "source": [
        "counts = logits.exp()\n",
        "prob = counts / counts.sum(1, keepdim=True) # normalize, now they're probs so every row sums to 1\n",
        "prob.shape"
      ],
      "metadata": {
        "id": "uE8eyRNDRJPP",
        "outputId": "5f3e79e4-f01c-44e5-8656-af49b58f17ca",
        "colab": {
          "base_uri": "https://localhost:8080/"
        }
      },
      "execution_count": 29,
      "outputs": [
        {
          "output_type": "execute_result",
          "data": {
            "text/plain": [
              "torch.Size([32, 27])"
            ]
          },
          "metadata": {},
          "execution_count": 29
        }
      ]
    },
    {
      "cell_type": "code",
      "source": [
        " #lets get the average negative log loss\n",
        " loss = -prob[torch.arange(32), Y].log().mean()\n",
        " loss"
      ],
      "metadata": {
        "id": "otgn96fpRY3m",
        "outputId": "0b64967c-24eb-4541-ab28-94700e59d0d8",
        "colab": {
          "base_uri": "https://localhost:8080/"
        }
      },
      "execution_count": 35,
      "outputs": [
        {
          "output_type": "execute_result",
          "data": {
            "text/plain": [
              "tensor(17.1312)"
            ]
          },
          "metadata": {},
          "execution_count": 35
        }
      ]
    },
    {
      "cell_type": "markdown",
      "source": [
        "We're going to use nn.functional's cross entropy function moving forward. Our old method was really inefficient under the hood and could in some cases behave poorly numerically speaking. If a logit is too large, it'll grow exponentially out of the range of our floating point numbers. Pytorch takes care of this under the hood by subtracting each logit by the highest value, so that our largest logit will only ever be 0.\n"
      ],
      "metadata": {
        "id": "BT0SD7DEYdv_"
      }
    },
    {
      "cell_type": "code",
      "source": [
        "loss = F.cross_entropy(logits, Y)\n",
        "loss"
      ],
      "metadata": {
        "id": "2X9xC3yDWFX4",
        "outputId": "9c764de8-4429-4930-a9f7-f53dc147ae58",
        "colab": {
          "base_uri": "https://localhost:8080/"
        }
      },
      "execution_count": 36,
      "outputs": [
        {
          "output_type": "execute_result",
          "data": {
            "text/plain": [
              "tensor(17.1312)"
            ]
          },
          "metadata": {},
          "execution_count": 36
        }
      ]
    },
    {
      "cell_type": "markdown",
      "source": [
        "# Putting it all together"
      ],
      "metadata": {
        "id": "rH7n_ze-WQ0e"
      }
    },
    {
      "cell_type": "code",
      "source": [
        "g = torch.Generator().manual_seed(2147483647)\n",
        "C = torch.randn((27,2), generator=g) # each character will have a 2D embedding\n",
        "W1= torch.randn((6, 100), generator=g) # 3 triplets of 2 = 6, the 6 elm vectors are fed through 100 neurons\n",
        "b1 = torch.randn(100, generator=g) # one bias for every neuron\n",
        "W2 = torch.randn((100,27), generator=g) # Second set of weights, giving us our logits for the 27 characters, for each entry(triplet)\n",
        "b2 = torch.randn(27, generator=g) # bias for each of the last neurons\n",
        "parameters= [C, W1, b1, W2, b2]\n"
      ],
      "metadata": {
        "id": "sERI74f6EAxQ"
      },
      "execution_count": 46,
      "outputs": []
    },
    {
      "cell_type": "code",
      "source": [
        "sum(p.nelement() for p in parameters) # how many parameters do we have total ?\n"
      ],
      "metadata": {
        "id": "l_2xfLdnFaxq",
        "outputId": "9fd79da4-668f-45b1-b8ce-4c4cdb0e841e",
        "colab": {
          "base_uri": "https://localhost:8080/"
        }
      },
      "execution_count": 47,
      "outputs": [
        {
          "output_type": "execute_result",
          "data": {
            "text/plain": [
              "3481"
            ]
          },
          "metadata": {},
          "execution_count": 47
        }
      ]
    },
    {
      "cell_type": "code",
      "source": [
        "for p in parameters:\n",
        "    p.requires_grad_(True) #don't forget! We need this to train"
      ],
      "metadata": {
        "id": "bBbuWvj4FOAQ"
      },
      "execution_count": 48,
      "outputs": []
    },
    {
      "cell_type": "code",
      "source": [
        "for __ in range(1000):\n",
        "  #forward pass\n",
        "  emb = C[X] # C is (27,2), X is (32,3) ---> emb is (32,3,2)\n",
        "  h = torch.tanh(emb.view(-1,6) @ W1 + b1) # (32,6)\n",
        "  logits = h @ W2 + b2 # (32,27) Second layer\n",
        "  loss = F.cross_entropy(logits, Y)\n",
        "  #print(loss.item())\n",
        "\n",
        "  #backward pass\n",
        "  for p in parameters:\n",
        "    p.grad = None # zero out so we don't accumulate past gradients\n",
        "  loss.backward()\n",
        "\n",
        "  #update\n",
        "  for p in parameters:\n",
        "    p.data += -0.1 * p.grad # learning rate for us to choose.\n",
        "\n",
        "print(loss.item())"
      ],
      "metadata": {
        "id": "8BDsH5coFVaS",
        "outputId": "17ae1ed2-2496-4851-efb8-05f8ca0be4bd",
        "colab": {
          "base_uri": "https://localhost:8080/"
        }
      },
      "execution_count": 42,
      "outputs": [
        {
          "output_type": "stream",
          "name": "stdout",
          "text": [
            "0.25609633326530457\n"
          ]
        }
      ]
    },
    {
      "cell_type": "markdown",
      "source": [
        "We got our We have alot of parameters and not many examples so it's easy to overfit. We dont get to 0 exactly ( the [000] triplet can up to 4 different next labels in our dataset, so it'll still get some wrong)"
      ],
      "metadata": {
        "id": "RRDrow58HhKv"
      }
    },
    {
      "cell_type": "markdown",
      "source": [
        "## Run it again with the whole dataset:\n",
        "\n"
      ],
      "metadata": {
        "id": "eDt8MVQ7IYPr"
      }
    },
    {
      "cell_type": "code",
      "source": [
        "block_size = 3 # here we're looking at the last 3 characters to guess the 4th.\n",
        "\n",
        "X,Y = [], []\n",
        "# just the first five words for now .\n",
        "for w in words:\n",
        "  #print(w)\n",
        "  context = [0]*block_size # creates a list the size of block_size,\n",
        "  for ch in w + '.':\n",
        "    ix = stoi[ch] #what's the indx of the character ?\n",
        "    X.append(context) # add the context, first list should be all '.'\n",
        "    Y.append(ix) # the index to get the character from itos.\n",
        "    #print(''.join(itos[i] for i in context), '--->', itos[ix])\n",
        "    #the above prints the current context, --> and then the next letter\n",
        "\n",
        "    context = context[1:] + [ix] # crop, and append the index for the next character.\n",
        "\n",
        "X,Y = torch.tensor(X), torch.tensor(Y)\n",
        "\n"
      ],
      "metadata": {
        "id": "Ttxe3T-vIu41"
      },
      "execution_count": 82,
      "outputs": []
    },
    {
      "cell_type": "code",
      "source": [
        "g = torch.Generator().manual_seed(2147483647)\n",
        "C = torch.randn((27,2), generator=g) # each character will have a 2D embedding\n",
        "W1= torch.randn((6, 100), generator=g) # 3 triplets of 2 = 6, the 6 elm vectors are fed through 100 neurons\n",
        "b1 = torch.randn(100, generator=g) # one bias for every neuron\n",
        "W2 = torch.randn((100,27), generator=g) # Second set of weights, giving us our logits for the 27 characters, for each entry(triplet)\n",
        "b2 = torch.randn(27, generator=g) # bias for each of the last neurons\n",
        "parameters= [C, W1, b1, W2, b2]\n",
        "\n",
        "for p in parameters:\n",
        "    p.requires_grad_(True) #don't forget! We need this to train"
      ],
      "metadata": {
        "id": "zplpKec5I6zD"
      },
      "execution_count": 83,
      "outputs": []
    },
    {
      "cell_type": "code",
      "source": [
        "for __ in range(10):\n",
        "  #forward pass\n",
        "  emb = C[X] # C is (27,2), X is (32,3) ---> emb is (32,3,2)\n",
        "  h = torch.tanh(emb.view(-1,6) @ W1 + b1) # (32,6)\n",
        "  logits = h @ W2 + b2 # (32,27) Second layer\n",
        "  loss = F.cross_entropy(logits, Y)\n",
        "  #print(loss.item())\n",
        "\n",
        "  #backward pass\n",
        "  for p in parameters:\n",
        "    p.grad = None # zero out so we don't accumulate past gradients\n",
        "  loss.backward()\n",
        "\n",
        "  #update\n",
        "  for p in parameters:\n",
        "    p.data += -0.1 * p.grad # learning rate for us to choose.\n",
        "\n",
        "print(loss.item())"
      ],
      "metadata": {
        "id": "V-6GpvlvJZKN",
        "outputId": "9c97404e-37f5-4137-fd5d-4219ecf46fb7",
        "colab": {
          "base_uri": "https://localhost:8080/"
        }
      },
      "execution_count": 73,
      "outputs": [
        {
          "output_type": "stream",
          "name": "stdout",
          "text": [
            "11.051856994628906\n"
          ]
        }
      ]
    },
    {
      "cell_type": "markdown",
      "source": [
        "## Minibatching and the learning rate\n",
        "\n",
        "The idea behind minibatching is that taking a step every epoch really slows everything down. Instead of going through the whole training set to get the ideal gradient, we can break it up into batches, and take multiple steps within one epoch. We trade quality of the gradient, for quantity and we can get to the same(or a very similar) place much faster. Careful not to have too small a batch size, there's a point where all your little steps will start to introduce noise\n",
        "\n",
        "The learning rate is a hyperparameter we can play with. too small a value and you might not traing quickly enough, too high a value can cause the learning to become unstable.\n",
        "\n",
        "reset the code above as needed to run the training loop"
      ],
      "metadata": {
        "id": "QL_gypF4Jfzu"
      }
    },
    {
      "cell_type": "code",
      "source": [
        "lre = torch.linspace(-3, 0 , 1000) # we'll take a list of learning rates to go through\n",
        "lrs =lrs = 10**lre"
      ],
      "metadata": {
        "id": "G78yrtCjMdbP"
      },
      "execution_count": 84,
      "outputs": []
    },
    {
      "cell_type": "code",
      "source": [
        "lri = []\n",
        "lossi = [] #we'll track the stats for the rates\n",
        "\n",
        "for i in range(1000):\n",
        "\n",
        "\n",
        "  #minbatch construcct\n",
        "  ix = torch.randint(0, X.shape[0], (32,))\n",
        "\n",
        "\n",
        "  #forward pass\n",
        "  emb = C[X[ix]] # batches of 32 at a time for each step\n",
        "  h = torch.tanh(emb.view(-1,6) @ W1 + b1) # (32,6)\n",
        "  logits = h @ W2 + b2 # (32,27) Second layer\n",
        "  loss = F.cross_entropy(logits, Y[ix])\n",
        "  #print(loss.item())\n",
        "\n",
        "  #backward pass\n",
        "  for p in parameters:\n",
        "    p.grad = None # zero out so we don't accumulate past gradients\n",
        "  loss.backward()\n",
        "\n",
        "  #update\n",
        "  lr = lrs[i] # lets go through our different lrs\n",
        "  for p in parameters:\n",
        "    p.data += -lr * p.grad # learning rate for us to choose.\n",
        "\n",
        "  # track stats\n",
        "  lri.append(lre[i]) # exponent of the learning rate\n",
        "  lossi.append(loss.item())\n",
        "\n",
        "print(loss.item())"
      ],
      "metadata": {
        "id": "GIjgFMKVKQFr",
        "outputId": "4796ce96-4751-4c43-9adb-877aae3ba252",
        "colab": {
          "base_uri": "https://localhost:8080/"
        }
      },
      "execution_count": 86,
      "outputs": [
        {
          "output_type": "stream",
          "name": "stdout",
          "text": [
            "9.414894104003906\n"
          ]
        }
      ]
    },
    {
      "cell_type": "code",
      "source": [
        "plt.plot(lri, lossi)"
      ],
      "metadata": {
        "id": "t2lylpeLKm1i",
        "outputId": "1e44f27a-3b97-4d59-9ad1-079850fab5f5",
        "colab": {
          "base_uri": "https://localhost:8080/",
          "height": 448
        }
      },
      "execution_count": 87,
      "outputs": [
        {
          "output_type": "execute_result",
          "data": {
            "text/plain": [
              "[<matplotlib.lines.Line2D at 0x7a97d2cdb970>]"
            ]
          },
          "metadata": {},
          "execution_count": 87
        },
        {
          "output_type": "display_data",
          "data": {
            "text/plain": [
              "<Figure size 640x480 with 1 Axes>"
            ],
            "image/png": "[encoded data removed]"
          },
          "metadata": {}
        }
      ]
    },
    {
      "cell_type": "markdown",
      "source": [
        "Our X axis is the exp of our learning rate. It looks like after $10^{-1}$ things get unstable. so a learning rate of 0.1 is probably our ideal learning rate."
      ],
      "metadata": {
        "id": "LGQ3UxC-Nhjj"
      }
    },
    {
      "cell_type": "markdown",
      "source": [
        "You can retrain using $10^{-1}$ and consider decay the learning rate at the later stages of training"
      ],
      "metadata": {
        "id": "ZTNNaM7iOh6N"
      }
    },
    {
      "cell_type": "markdown",
      "source": [
        "We should split our dataset into training, validation and test splits. Our model won't be very useful if it just memorizes verbatum that data it's seen.\n",
        "\n",
        "\n",
        "\n",
        "*   Training Split ~ 80% of data: to train our network\n",
        "*   Validation Split ~ 10 % of data: tune your hyperparameters\n",
        "*   Test Split ~ 10% of data: evaluate the whole model\n",
        "\n",
        "Always be precious about using the test split. It defeats the purpose if we over train on the test split.\n",
        "\n",
        "\n",
        "\n",
        "\n",
        "\n"
      ],
      "metadata": {
        "id": "LVa5kcmHOyp7"
      }
    },
    {
      "cell_type": "code",
      "source": [],
      "metadata": {
        "id": "cDve0H7OPne7"
      },
      "execution_count": null,
      "outputs": []
    }
  ]
}